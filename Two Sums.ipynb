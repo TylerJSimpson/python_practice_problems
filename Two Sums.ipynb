{
 "cells": [
  {
   "cell_type": "markdown",
   "id": "53cc192e",
   "metadata": {},
   "source": [
    "## Two Sums Function\n",
    "### Python3"
   ]
  },
  {
   "cell_type": "markdown",
   "id": "36c803db",
   "metadata": {},
   "source": [
    "#### Step 1: Create function"
   ]
  },
  {
   "cell_type": "code",
   "execution_count": 1,
   "id": "781b78f7",
   "metadata": {},
   "outputs": [],
   "source": [
    "#Create a two sums function\n",
    "def two_sums(num, target):\n",
    "    #Function for two sums\n",
    "    \n",
    "    d = {}\n",
    "    for i in range(len(num)):\n",
    "        if target - num[i] in d:\n",
    "            print(d)\n",
    "            return [d[target-num[i]],i]\n",
    "        d[num[i]] = i\n",
    "    return -1"
   ]
  },
  {
   "cell_type": "markdown",
   "id": "34905594",
   "metadata": {},
   "source": [
    "#### Step 2: Ask for input of # of ints and corresponding values"
   ]
  },
  {
   "cell_type": "code",
   "execution_count": 4,
   "id": "8b0b8312",
   "metadata": {},
   "outputs": [
    {
     "name": "stdout",
     "output_type": "stream",
     "text": [
      "Enter your target two sum value: 15\n",
      "Enter number of elements followed by elements: 9\n",
      "1\n",
      "2\n",
      "3\n",
      "4\n",
      "5\n",
      "6\n",
      "7\n",
      "8\n",
      "9\n"
     ]
    }
   ],
   "source": [
    "#Create an empty list\n",
    "input_list = []\n",
    "\n",
    "#Ask for target two sum value and # of ints and corresponding values\n",
    "t = int(input('Enter your target two sum value: ')) \n",
    "n = int(input('Enter number of elements followed by elements: '))\n",
    "\n",
    "#Allow for input of n many ints\n",
    "for i in range(0, n):\n",
    "    ele = int(input())\n",
    "    #Append empty list\n",
    "    input_list.append(ele)"
   ]
  },
  {
   "cell_type": "markdown",
   "id": "590cb339",
   "metadata": {},
   "source": [
    "#### Step 3: Results"
   ]
  },
  {
   "cell_type": "code",
   "execution_count": 5,
   "id": "71925c0f",
   "metadata": {},
   "outputs": [
    {
     "name": "stdout",
     "output_type": "stream",
     "text": [
      "{1: 0, 2: 1, 3: 2, 4: 3, 5: 4, 6: 5, 7: 6}\n",
      "[6, 7]\n"
     ]
    }
   ],
   "source": [
    "#Print result of function applied to user created list     \n",
    "print(two_sums(input_list,t))"
   ]
  }
 ],
 "metadata": {
  "kernelspec": {
   "display_name": "Python 3",
   "language": "python",
   "name": "python3"
  },
  "language_info": {
   "codemirror_mode": {
    "name": "ipython",
    "version": 3
   },
   "file_extension": ".py",
   "mimetype": "text/x-python",
   "name": "python",
   "nbconvert_exporter": "python",
   "pygments_lexer": "ipython3",
   "version": "3.8.8"
  }
 },
 "nbformat": 4,
 "nbformat_minor": 5
}
