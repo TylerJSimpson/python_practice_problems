{
 "cells": [
  {
   "cell_type": "markdown",
   "id": "2eb0a6c0",
   "metadata": {},
   "source": [
    "## Caesar Cipher Function\n",
    "### Python3"
   ]
  },
  {
   "cell_type": "markdown",
   "id": "6856dfae",
   "metadata": {},
   "source": [
    "#### *Step 1:* Create function"
   ]
  },
  {
   "cell_type": "code",
   "execution_count": 5,
   "id": "91ab52b2",
   "metadata": {},
   "outputs": [],
   "source": [
    "def caesar_cipher(text,s):\n",
    "    #Function for Caesar Cipher\n",
    "    \n",
    "    result = ''\n",
    "    for i in range(len(text)):\n",
    "        char = text[i]\n",
    "        \n",
    "        #Shift upper case character\n",
    "        if char.isupper():\n",
    "            result += chr((ord(char) + s-65) % 26 + 65)\n",
    "            \n",
    "        #Encrypt\n",
    "        else:\n",
    "            result += chr((ord(char) + s - 97) % 26 + 97)\n",
    "            \n",
    "    return result"
   ]
  },
  {
   "cell_type": "markdown",
   "id": "690932de",
   "metadata": {},
   "source": [
    "#### Step 2: Allow user to input text and shift value"
   ]
  },
  {
   "cell_type": "code",
   "execution_count": 6,
   "id": "2730b8ce",
   "metadata": {},
   "outputs": [
    {
     "name": "stdout",
     "output_type": "stream",
     "text": [
      "Type message to be encrypted:\n",
      ">>>Testing my cypher.\n",
      "Type integer for shift:\n",
      ">>>16\n"
     ]
    }
   ],
   "source": [
    "#Input text and shift amount for encryption\n",
    "text = str(input('Type message to be encrypted:\\n>>>'))\n",
    "s = int(input('Type integer for shift:\\n>>>'))"
   ]
  },
  {
   "cell_type": "markdown",
   "id": "2b737489",
   "metadata": {},
   "source": [
    "#### Step 3: Output the original text, shift amount, and ciphered text"
   ]
  },
  {
   "cell_type": "code",
   "execution_count": 7,
   "id": "55c68de0",
   "metadata": {},
   "outputs": [
    {
     "name": "stdout",
     "output_type": "stream",
     "text": [
      "Text  : Testing my cypher.\n",
      "Shift : 16\n",
      "Cipher: Juijydwdcodsofxuhr\n"
     ]
    }
   ],
   "source": [
    "#Output\n",
    "print ('Text  :' , text)\n",
    "print ('Shift :', str(s))\n",
    "print ('Cipher:', caesar_cipher(text,s))"
   ]
  }
 ],
 "metadata": {
  "kernelspec": {
   "display_name": "Python 3",
   "language": "python",
   "name": "python3"
  },
  "language_info": {
   "codemirror_mode": {
    "name": "ipython",
    "version": 3
   },
   "file_extension": ".py",
   "mimetype": "text/x-python",
   "name": "python",
   "nbconvert_exporter": "python",
   "pygments_lexer": "ipython3",
   "version": "3.8.8"
  }
 },
 "nbformat": 4,
 "nbformat_minor": 5
}
