{
  "nbformat": 4,
  "nbformat_minor": 0,
  "metadata": {
    "colab": {
      "name": "BS4 Scraping Tables.ipynb",
      "provenance": [],
      "authorship_tag": "ABX9TyO3GtTb7MBk5U+mvKURzW5M",
      "include_colab_link": true
    },
    "kernelspec": {
      "name": "python3",
      "display_name": "Python 3"
    },
    "language_info": {
      "name": "python"
    }
  },
  "cells": [
    {
      "cell_type": "markdown",
      "metadata": {
        "id": "view-in-github",
        "colab_type": "text"
      },
      "source": [
        "<a href=\"https://colab.research.google.com/github/TylerJSimpson/python_programming_projects/blob/main/BS4%20Scraping%20Tables.ipynb\" target=\"_parent\"><img src=\"https://colab.research.google.com/assets/colab-badge.svg\" alt=\"Open In Colab\"/></a>"
      ]
    },
    {
      "cell_type": "markdown",
      "source": [
        "# Scrape HTML tables \n",
        "## BeautifulSoup and Pandas"
      ],
      "metadata": {
        "id": "1zon21hdpOqm"
      }
    },
    {
      "cell_type": "markdown",
      "source": [
        "##Setup"
      ],
      "metadata": {
        "id": "3oSAFzy4pYWw"
      }
    },
    {
      "cell_type": "code",
      "source": [
        "import requests\n",
        "from bs4 import BeautifulSoup"
      ],
      "metadata": {
        "id": "PDvGoMRmpO8b"
      },
      "execution_count": null,
      "outputs": []
    },
    {
      "cell_type": "code",
      "source": [
        "base_site = \"https://en.wikipedia.org/wiki/List_of_national_capitals_by_population\""
      ],
      "metadata": {
        "id": "zDXOKxLWpO_L"
      },
      "execution_count": null,
      "outputs": []
    },
    {
      "cell_type": "code",
      "source": [
        "r = requests.get(base_site)"
      ],
      "metadata": {
        "id": "jynPf0frpPBu"
      },
      "execution_count": null,
      "outputs": []
    },
    {
      "cell_type": "code",
      "source": [
        "html = r.content"
      ],
      "metadata": {
        "id": "x_gPhn__pPD-"
      },
      "execution_count": null,
      "outputs": []
    },
    {
      "cell_type": "markdown",
      "source": [
        "##Extracting tables"
      ],
      "metadata": {
        "id": "JFD0s79Bpse7"
      }
    },
    {
      "cell_type": "code",
      "source": [
        "#obtain column with the capitals\n",
        "soup = BeautifulSoup(html, \"lxml\")"
      ],
      "metadata": {
        "id": "JeUcPtHlpp5M"
      },
      "execution_count": null,
      "outputs": []
    },
    {
      "cell_type": "code",
      "source": [
        "#search for all tables in the document\n",
        "table = soup.find_all(\"table\")[1]"
      ],
      "metadata": {
        "id": "XIJYM9C8pq9k"
      },
      "execution_count": null,
      "outputs": []
    },
    {
      "cell_type": "code",
      "source": [
        "#<th>Capital</th> \n",
        "#th refers to table heading (column)\n",
        "table.find_all(\"tr\")[0].contents"
      ],
      "metadata": {
        "colab": {
          "base_uri": "https://localhost:8080/"
        },
        "id": "Vwj-jUVAp7E9",
        "outputId": "9e9a4b19-ea92-44a7-c178-31c3281aced3"
      },
      "execution_count": null,
      "outputs": [
        {
          "output_type": "execute_result",
          "data": {
            "text/plain": [
              "['\\n',\n",
              " <th>Country (or territory)</th>,\n",
              " '\\n',\n",
              " <th>Capital</th>,\n",
              " '\\n',\n",
              " <th>Population</th>,\n",
              " '\\n',\n",
              " <th style=\"max-width:4em\">% of country</th>,\n",
              " '\\n',\n",
              " <th>Source\n",
              " </th>]"
            ]
          },
          "metadata": {},
          "execution_count": 13
        }
      ]
    },
    {
      "cell_type": "code",
      "source": [
        "#take 3rd element of every row\n",
        "capitals = [row.contents[3].text for row in table.find_all(\"tr\")]\n",
        "capitals\n",
        "#this is difficult. Use pandas as below"
      ],
      "metadata": {
        "colab": {
          "base_uri": "https://localhost:8080/"
        },
        "id": "sPIMqhhbp7Cp",
        "outputId": "03298f15-ee62-4695-ab4c-95678f3793a5"
      },
      "execution_count": null,
      "outputs": [
        {
          "output_type": "execute_result",
          "data": {
            "text/plain": [
              "['Capital',\n",
              " ' Beijing',\n",
              " ' Tokyo',\n",
              " ' Kinshasa',\n",
              " ' Moscow',\n",
              " ' Jakarta',\n",
              " ' Cairo',\n",
              " ' Seoul',\n",
              " ' Mexico City',\n",
              " ' London',\n",
              " ' Dhaka',\n",
              " ' Lima',\n",
              " ' Tehran',\n",
              " ' Bangkok',\n",
              " ' Hanoi',\n",
              " ' Baghdad',\n",
              " ' Riyadh',\n",
              " ' Hong Kong',\n",
              " ' Bogotá',\n",
              " ' Santiago',\n",
              " ' Ankara',\n",
              " ' Singapore',\n",
              " ' Kabul',\n",
              " ' Nairobi',\n",
              " ' Amman',\n",
              " ' Algiers',\n",
              " ' Berlin',\n",
              " ' Madrid',\n",
              " ' Addis Ababa',\n",
              " ' Kuwait City',\n",
              " ' Guatemala City',\n",
              " ' Pretoria',\n",
              " ' Kyiv',\n",
              " ' Buenos Aires',\n",
              " ' Pyongyang',\n",
              " ' Tashkent',\n",
              " ' Rome',\n",
              " ' Quito',\n",
              " ' Yaoundé',\n",
              " ' Lusaka',\n",
              " ' Khartoum',\n",
              " ' Brasília',\n",
              " ' Taipei (de facto)',\n",
              " ' Sanaa',\n",
              " ' Luanda',\n",
              " ' Ouagadougou',\n",
              " ' Accra',\n",
              " ' Mogadishu',\n",
              " ' Baku',\n",
              " ' Phnom Penh',\n",
              " ' Caracas',\n",
              " ' Bucharest',\n",
              " ' Paris',\n",
              " ' Havana',\n",
              " ' Harare',\n",
              " ' Damascus',\n",
              " ' Minsk',\n",
              " ' Vienna',\n",
              " ' Manila',\n",
              " ' Bamako',\n",
              " ' Warsaw',\n",
              " ' Kuala Lumpur',\n",
              " ' Budapest',\n",
              " ' Brazzaville',\n",
              " ' Belgrade',\n",
              " ' Kampala',\n",
              " ' Conakry',\n",
              " ' Ulaanbaatar',\n",
              " ' Tegucigalpa',\n",
              " ' Dakar',\n",
              " ' Niamey',\n",
              " ' Montevideo',\n",
              " ' Sofia',\n",
              " ' Muscat',\n",
              " ' Prague',\n",
              " ' Antananarivo',\n",
              " ' Nur-Sultan',\n",
              " ' Abuja',\n",
              " ' Tbilisi',\n",
              " ' Nouakchott',\n",
              " ' Doha',\n",
              " ' Tripoli',\n",
              " ' Naypyidaw',\n",
              " ' Kigali',\n",
              " ' Maputo',\n",
              " ' Santo Domingo',\n",
              " ' Yerevan',\n",
              " ' Bishkek',\n",
              " ' Freetown',\n",
              " ' Managua',\n",
              " ' Ottawa',\n",
              " ' Islamabad',\n",
              " ' Monrovia',\n",
              " ' Abu Dhabi',\n",
              " ' Lilongwe',\n",
              " ' Port-au-Prince',\n",
              " ' Stockholm',\n",
              " ' Asmara',\n",
              " ' Jerusalem[a]',\n",
              " ' Vientiane',\n",
              " \" N'Djamena\",\n",
              " ' Amsterdam',\n",
              " ' Bangui',\n",
              " ' Panama City',\n",
              " ' Dushanbe',\n",
              " ' Kathmandu',\n",
              " ' Lomé',\n",
              " ' Ashgabat',\n",
              " ' Chişinău',\n",
              " ' Zagreb',\n",
              " ' Libreville',\n",
              " ' Oslo',\n",
              " ' Macau',\n",
              " ' Washington, D.C.',\n",
              " ' Athens',\n",
              " ' Kingston',\n",
              " ' Helsinki',\n",
              " ' Tunis',\n",
              " ' Copenhagen',\n",
              " ' Riga',\n",
              " ' Djibouti (city)',\n",
              " ' Rabat',\n",
              " ' San Salvador',\n",
              " ' Vilnius',\n",
              " ' Tirana',\n",
              " ' Dublin',\n",
              " ' Skopje',\n",
              " ' Juba',\n",
              " ' Asunción',\n",
              " ' Lisbon',\n",
              " ' Bissau',\n",
              " ' Bratislava',\n",
              " ' Tallinn',\n",
              " ' Canberra',\n",
              " ' Windhoek',\n",
              " ' Dodoma',\n",
              " ' Port Moresby',\n",
              " ' Yamoussoukro',\n",
              " ' Beirut',\n",
              " ' Sucre',\n",
              " ' San Juan',\n",
              " ' San José',\n",
              " ' Maseru',\n",
              " ' Nicosia',\n",
              " ' Malabo',\n",
              " ' Ljubljana',\n",
              " ' Dili',\n",
              " ' Sarajevo',\n",
              " ' Nassau',\n",
              " ' Gaborone',\n",
              " ' Porto-Novo',\n",
              " ' Paramaribo',\n",
              " ' New Delhi',\n",
              " ' Laayoune (claimed)Tifariti (de facto)\\n',\n",
              " ' Wellington',\n",
              " ' Manama',\n",
              " ' Pristina',\n",
              " ' Podgorica',\n",
              " ' Brussels',\n",
              " ' Praia',\n",
              " ' Port Louis',\n",
              " ' Willemstad',\n",
              " ' Gitega',\n",
              " ' Bern (de facto)',\n",
              " ' Tiraspol',\n",
              " ' Malé',\n",
              " ' Reykjavík',\n",
              " ' Luxembourg City',\n",
              " ' Georgetown',\n",
              " ' Thimphu',\n",
              " ' Moroni',\n",
              " ' Bridgetown',\n",
              " ' Sri Jayawardenepura Kotte',\n",
              " ' Bandar Seri Begawan',\n",
              " ' Mbabane',\n",
              " ' Nouméa',\n",
              " ' Suva',\n",
              " ' Honiara',\n",
              " ' Stepanakert',\n",
              " ' Banjul',\n",
              " ' São Tomé',\n",
              " ' Tarawa',\n",
              " ' Port Vila',\n",
              " ' Saipan',\n",
              " ' Apia',\n",
              " ' Ramallah (de facto)',\n",
              " ' Monaco',\n",
              " ' Saint Helier',\n",
              " ' Port of Spain',\n",
              " ' George Town',\n",
              " ' Gibraltar',\n",
              " \" St. George's\",\n",
              " ' Oranjestad',\n",
              " ' Douglas',\n",
              " ' Majuro',\n",
              " ' Nukuʻalofa',\n",
              " ' Victoria',\n",
              " ' Papeete',\n",
              " ' Andorra la Vella',\n",
              " ' Tórshavn',\n",
              " \" St. John's\",\n",
              " ' Belmopan',\n",
              " ' Castries',\n",
              " ' Saint Peter Port',\n",
              " ' Nuuk',\n",
              " ' Roseau',\n",
              " ' Basseterre',\n",
              " ' Kingstown',\n",
              " ' Road Town',\n",
              " ' Mariehamn',\n",
              " ' Charlotte Amalie',\n",
              " ' Palikir',\n",
              " ' Funafuti',\n",
              " ' Valletta',\n",
              " ' Vaduz',\n",
              " ' Saint-Pierre',\n",
              " ' Avarua',\n",
              " ' City of San Marino',\n",
              " ' Cockburn Town',\n",
              " ' Pago Pago',\n",
              " ' Marigot',\n",
              " ' Gustavia',\n",
              " ' Stanley',\n",
              " ' Longyearbyen',\n",
              " ' Philipsburg',\n",
              " ' Flying Fish Cove',\n",
              " ' The Valley',\n",
              " ' Hagåtña',\n",
              " ' Mata Utu',\n",
              " ' Hamilton',\n",
              " ' Yaren (de facto)',\n",
              " ' Jamestown',\n",
              " ' Alofi',\n",
              " ' Atafu',\n",
              " ' Vatican City (city-state)',\n",
              " ' Brades (de facto)Plymouth (de jure)',\n",
              " ' Ngerulmud',\n",
              " ' West Island',\n",
              " ' Adamstown',\n",
              " ' King Edward Point',\n",
              " ' Kingston[b] (de facto)']"
            ]
          },
          "metadata": {},
          "execution_count": 27
        }
      ]
    },
    {
      "cell_type": "markdown",
      "source": [
        "##Utilizing Pandas"
      ],
      "metadata": {
        "id": "YdlgdDZdtUAz"
      }
    },
    {
      "cell_type": "code",
      "source": [
        "import pandas as pd"
      ],
      "metadata": {
        "id": "LGnYWkHQpq5k"
      },
      "execution_count": null,
      "outputs": []
    },
    {
      "cell_type": "code",
      "source": [
        "tables = pd.read_html(base_site)"
      ],
      "metadata": {
        "id": "OeGh3JXzpq3N"
      },
      "execution_count": null,
      "outputs": []
    },
    {
      "cell_type": "code",
      "source": [
        "type(tables[0])"
      ],
      "metadata": {
        "colab": {
          "base_uri": "https://localhost:8080/"
        },
        "id": "qMbrtZ8Npq1A",
        "outputId": "1ee9a18f-45dc-414d-c65e-7d93700fa9fb"
      },
      "execution_count": null,
      "outputs": [
        {
          "output_type": "execute_result",
          "data": {
            "text/plain": [
              "pandas.core.frame.DataFrame"
            ]
          },
          "metadata": {},
          "execution_count": 24
        }
      ]
    },
    {
      "cell_type": "code",
      "source": [
        "len(tables)"
      ],
      "metadata": {
        "colab": {
          "base_uri": "https://localhost:8080/"
        },
        "id": "iMW020Hopqyo",
        "outputId": "7d265c9d-d255-436e-87af-9df4a00d9302"
      },
      "execution_count": null,
      "outputs": [
        {
          "output_type": "execute_result",
          "data": {
            "text/plain": [
              "4"
            ]
          },
          "metadata": {},
          "execution_count": 25
        }
      ]
    },
    {
      "cell_type": "code",
      "source": [
        "tables[1]"
      ],
      "metadata": {
        "colab": {
          "base_uri": "https://localhost:8080/",
          "height": 424
        },
        "id": "v6-w_DuCpqwD",
        "outputId": "352a672a-c061-4e2b-a1c3-0fde9245990a"
      },
      "execution_count": null,
      "outputs": [
        {
          "output_type": "execute_result",
          "data": {
            "text/plain": [
              "                                Country (or territory)  \\\n",
              "0                                              China *   \n",
              "1                                              Japan *   \n",
              "2                                             DR Congo   \n",
              "3                                             Russia *   \n",
              "4                                          Indonesia *   \n",
              "..                                                 ...   \n",
              "235                                              Palau   \n",
              "236                Cocos (Keeling) Islands (Australia)   \n",
              "237                              Pitcairn Islands (UK)   \n",
              "238  South Georgia and the South Sandwich Islands (UK)   \n",
              "239                         Norfolk Island (Australia)   \n",
              "\n",
              "                    Capital  Population % of country    Source  \n",
              "0                   Beijing  21542000.0          NaN  [1] 2010  \n",
              "1                     Tokyo  13921000.0          NaN  [2] 2019  \n",
              "2                  Kinshasa  12691000.0          NaN  [3] 2017  \n",
              "3                    Moscow  12655050.0          NaN  [4] 2021  \n",
              "4                   Jakarta  10562088.0          NaN  [5] 2020  \n",
              "..                      ...         ...          ...       ...  \n",
              "235               Ngerulmud       271.0          NaN      2010  \n",
              "236             West Island       134.0          NaN      2011  \n",
              "237               Adamstown        40.0         100%      2021  \n",
              "238       King Edward Point        22.0          NaN      2018  \n",
              "239  Kingston[b] (de facto)         NaN          NaN       NaN  \n",
              "\n",
              "[240 rows x 5 columns]"
            ],
            "text/html": [
              "\n",
              "  <div id=\"df-979ac3f9-1ddf-4990-b2d8-291867c3c5fb\">\n",
              "    <div class=\"colab-df-container\">\n",
              "      <div>\n",
              "<style scoped>\n",
              "    .dataframe tbody tr th:only-of-type {\n",
              "        vertical-align: middle;\n",
              "    }\n",
              "\n",
              "    .dataframe tbody tr th {\n",
              "        vertical-align: top;\n",
              "    }\n",
              "\n",
              "    .dataframe thead th {\n",
              "        text-align: right;\n",
              "    }\n",
              "</style>\n",
              "<table border=\"1\" class=\"dataframe\">\n",
              "  <thead>\n",
              "    <tr style=\"text-align: right;\">\n",
              "      <th></th>\n",
              "      <th>Country (or territory)</th>\n",
              "      <th>Capital</th>\n",
              "      <th>Population</th>\n",
              "      <th>% of country</th>\n",
              "      <th>Source</th>\n",
              "    </tr>\n",
              "  </thead>\n",
              "  <tbody>\n",
              "    <tr>\n",
              "      <th>0</th>\n",
              "      <td>China *</td>\n",
              "      <td>Beijing</td>\n",
              "      <td>21542000.0</td>\n",
              "      <td>NaN</td>\n",
              "      <td>[1] 2010</td>\n",
              "    </tr>\n",
              "    <tr>\n",
              "      <th>1</th>\n",
              "      <td>Japan *</td>\n",
              "      <td>Tokyo</td>\n",
              "      <td>13921000.0</td>\n",
              "      <td>NaN</td>\n",
              "      <td>[2] 2019</td>\n",
              "    </tr>\n",
              "    <tr>\n",
              "      <th>2</th>\n",
              "      <td>DR Congo</td>\n",
              "      <td>Kinshasa</td>\n",
              "      <td>12691000.0</td>\n",
              "      <td>NaN</td>\n",
              "      <td>[3] 2017</td>\n",
              "    </tr>\n",
              "    <tr>\n",
              "      <th>3</th>\n",
              "      <td>Russia *</td>\n",
              "      <td>Moscow</td>\n",
              "      <td>12655050.0</td>\n",
              "      <td>NaN</td>\n",
              "      <td>[4] 2021</td>\n",
              "    </tr>\n",
              "    <tr>\n",
              "      <th>4</th>\n",
              "      <td>Indonesia *</td>\n",
              "      <td>Jakarta</td>\n",
              "      <td>10562088.0</td>\n",
              "      <td>NaN</td>\n",
              "      <td>[5] 2020</td>\n",
              "    </tr>\n",
              "    <tr>\n",
              "      <th>...</th>\n",
              "      <td>...</td>\n",
              "      <td>...</td>\n",
              "      <td>...</td>\n",
              "      <td>...</td>\n",
              "      <td>...</td>\n",
              "    </tr>\n",
              "    <tr>\n",
              "      <th>235</th>\n",
              "      <td>Palau</td>\n",
              "      <td>Ngerulmud</td>\n",
              "      <td>271.0</td>\n",
              "      <td>NaN</td>\n",
              "      <td>2010</td>\n",
              "    </tr>\n",
              "    <tr>\n",
              "      <th>236</th>\n",
              "      <td>Cocos (Keeling) Islands (Australia)</td>\n",
              "      <td>West Island</td>\n",
              "      <td>134.0</td>\n",
              "      <td>NaN</td>\n",
              "      <td>2011</td>\n",
              "    </tr>\n",
              "    <tr>\n",
              "      <th>237</th>\n",
              "      <td>Pitcairn Islands (UK)</td>\n",
              "      <td>Adamstown</td>\n",
              "      <td>40.0</td>\n",
              "      <td>100%</td>\n",
              "      <td>2021</td>\n",
              "    </tr>\n",
              "    <tr>\n",
              "      <th>238</th>\n",
              "      <td>South Georgia and the South Sandwich Islands (UK)</td>\n",
              "      <td>King Edward Point</td>\n",
              "      <td>22.0</td>\n",
              "      <td>NaN</td>\n",
              "      <td>2018</td>\n",
              "    </tr>\n",
              "    <tr>\n",
              "      <th>239</th>\n",
              "      <td>Norfolk Island (Australia)</td>\n",
              "      <td>Kingston[b] (de facto)</td>\n",
              "      <td>NaN</td>\n",
              "      <td>NaN</td>\n",
              "      <td>NaN</td>\n",
              "    </tr>\n",
              "  </tbody>\n",
              "</table>\n",
              "<p>240 rows × 5 columns</p>\n",
              "</div>\n",
              "      <button class=\"colab-df-convert\" onclick=\"convertToInteractive('df-979ac3f9-1ddf-4990-b2d8-291867c3c5fb')\"\n",
              "              title=\"Convert this dataframe to an interactive table.\"\n",
              "              style=\"display:none;\">\n",
              "        \n",
              "  <svg xmlns=\"http://www.w3.org/2000/svg\" height=\"24px\"viewBox=\"0 0 24 24\"\n",
              "       width=\"24px\">\n",
              "    <path d=\"M0 0h24v24H0V0z\" fill=\"none\"/>\n",
              "    <path d=\"M18.56 5.44l.94 2.06.94-2.06 2.06-.94-2.06-.94-.94-2.06-.94 2.06-2.06.94zm-11 1L8.5 8.5l.94-2.06 2.06-.94-2.06-.94L8.5 2.5l-.94 2.06-2.06.94zm10 10l.94 2.06.94-2.06 2.06-.94-2.06-.94-.94-2.06-.94 2.06-2.06.94z\"/><path d=\"M17.41 7.96l-1.37-1.37c-.4-.4-.92-.59-1.43-.59-.52 0-1.04.2-1.43.59L10.3 9.45l-7.72 7.72c-.78.78-.78 2.05 0 2.83L4 21.41c.39.39.9.59 1.41.59.51 0 1.02-.2 1.41-.59l7.78-7.78 2.81-2.81c.8-.78.8-2.07 0-2.86zM5.41 20L4 18.59l7.72-7.72 1.47 1.35L5.41 20z\"/>\n",
              "  </svg>\n",
              "      </button>\n",
              "      \n",
              "  <style>\n",
              "    .colab-df-container {\n",
              "      display:flex;\n",
              "      flex-wrap:wrap;\n",
              "      gap: 12px;\n",
              "    }\n",
              "\n",
              "    .colab-df-convert {\n",
              "      background-color: #E8F0FE;\n",
              "      border: none;\n",
              "      border-radius: 50%;\n",
              "      cursor: pointer;\n",
              "      display: none;\n",
              "      fill: #1967D2;\n",
              "      height: 32px;\n",
              "      padding: 0 0 0 0;\n",
              "      width: 32px;\n",
              "    }\n",
              "\n",
              "    .colab-df-convert:hover {\n",
              "      background-color: #E2EBFA;\n",
              "      box-shadow: 0px 1px 2px rgba(60, 64, 67, 0.3), 0px 1px 3px 1px rgba(60, 64, 67, 0.15);\n",
              "      fill: #174EA6;\n",
              "    }\n",
              "\n",
              "    [theme=dark] .colab-df-convert {\n",
              "      background-color: #3B4455;\n",
              "      fill: #D2E3FC;\n",
              "    }\n",
              "\n",
              "    [theme=dark] .colab-df-convert:hover {\n",
              "      background-color: #434B5C;\n",
              "      box-shadow: 0px 1px 3px 1px rgba(0, 0, 0, 0.15);\n",
              "      filter: drop-shadow(0px 1px 2px rgba(0, 0, 0, 0.3));\n",
              "      fill: #FFFFFF;\n",
              "    }\n",
              "  </style>\n",
              "\n",
              "      <script>\n",
              "        const buttonEl =\n",
              "          document.querySelector('#df-979ac3f9-1ddf-4990-b2d8-291867c3c5fb button.colab-df-convert');\n",
              "        buttonEl.style.display =\n",
              "          google.colab.kernel.accessAllowed ? 'block' : 'none';\n",
              "\n",
              "        async function convertToInteractive(key) {\n",
              "          const element = document.querySelector('#df-979ac3f9-1ddf-4990-b2d8-291867c3c5fb');\n",
              "          const dataTable =\n",
              "            await google.colab.kernel.invokeFunction('convertToInteractive',\n",
              "                                                     [key], {});\n",
              "          if (!dataTable) return;\n",
              "\n",
              "          const docLinkHtml = 'Like what you see? Visit the ' +\n",
              "            '<a target=\"_blank\" href=https://colab.research.google.com/notebooks/data_table.ipynb>data table notebook</a>'\n",
              "            + ' to learn more about interactive tables.';\n",
              "          element.innerHTML = '';\n",
              "          dataTable['output_type'] = 'display_data';\n",
              "          await google.colab.output.renderOutput(dataTable, element);\n",
              "          const docLink = document.createElement('div');\n",
              "          docLink.innerHTML = docLinkHtml;\n",
              "          element.appendChild(docLink);\n",
              "        }\n",
              "      </script>\n",
              "    </div>\n",
              "  </div>\n",
              "  "
            ]
          },
          "metadata": {},
          "execution_count": 30
        }
      ]
    },
    {
      "cell_type": "code",
      "source": [
        "tables[1].columns"
      ],
      "metadata": {
        "colab": {
          "base_uri": "https://localhost:8080/"
        },
        "id": "1aKTIYzvtcRV",
        "outputId": "d32d9208-b32f-46a5-837b-33becbb921d3"
      },
      "execution_count": null,
      "outputs": [
        {
          "output_type": "execute_result",
          "data": {
            "text/plain": [
              "Index(['Country (or territory)', 'Capital', 'Population', '% of country',\n",
              "       'Source'],\n",
              "      dtype='object')"
            ]
          },
          "metadata": {},
          "execution_count": 31
        }
      ]
    },
    {
      "cell_type": "code",
      "source": [
        "pd.read_html(base_site, attrs = {\"class\": \"navbox\"})"
      ],
      "metadata": {
        "colab": {
          "base_uri": "https://localhost:8080/",
          "height": 311
        },
        "id": "-wHYi7FPtcOr",
        "outputId": "a7b135b8-2ad8-427d-c5ce-07c06b1525e0"
      },
      "execution_count": null,
      "outputs": [
        {
          "output_type": "error",
          "ename": "ValueError",
          "evalue": "ignored",
          "traceback": [
            "\u001b[0;31m---------------------------------------------------------------------------\u001b[0m",
            "\u001b[0;31mValueError\u001b[0m                                Traceback (most recent call last)",
            "\u001b[0;32m<ipython-input-32-c2017af21215>\u001b[0m in \u001b[0;36m<module>\u001b[0;34m()\u001b[0m\n\u001b[0;32m----> 1\u001b[0;31m \u001b[0mpd\u001b[0m\u001b[0;34m.\u001b[0m\u001b[0mread_html\u001b[0m\u001b[0;34m(\u001b[0m\u001b[0mbase_site\u001b[0m\u001b[0;34m,\u001b[0m \u001b[0mattrs\u001b[0m \u001b[0;34m=\u001b[0m \u001b[0;34m{\u001b[0m\u001b[0;34m\"class\"\u001b[0m\u001b[0;34m:\u001b[0m \u001b[0;34m\"navbox\"\u001b[0m\u001b[0;34m}\u001b[0m\u001b[0;34m)\u001b[0m\u001b[0;34m\u001b[0m\u001b[0;34m\u001b[0m\u001b[0m\n\u001b[0m",
            "\u001b[0;32m/usr/local/lib/python3.7/dist-packages/pandas/util/_decorators.py\u001b[0m in \u001b[0;36mwrapper\u001b[0;34m(*args, **kwargs)\u001b[0m\n\u001b[1;32m    309\u001b[0m                     \u001b[0mstacklevel\u001b[0m\u001b[0;34m=\u001b[0m\u001b[0mstacklevel\u001b[0m\u001b[0;34m,\u001b[0m\u001b[0;34m\u001b[0m\u001b[0;34m\u001b[0m\u001b[0m\n\u001b[1;32m    310\u001b[0m                 )\n\u001b[0;32m--> 311\u001b[0;31m             \u001b[0;32mreturn\u001b[0m \u001b[0mfunc\u001b[0m\u001b[0;34m(\u001b[0m\u001b[0;34m*\u001b[0m\u001b[0margs\u001b[0m\u001b[0;34m,\u001b[0m \u001b[0;34m**\u001b[0m\u001b[0mkwargs\u001b[0m\u001b[0;34m)\u001b[0m\u001b[0;34m\u001b[0m\u001b[0;34m\u001b[0m\u001b[0m\n\u001b[0m\u001b[1;32m    312\u001b[0m \u001b[0;34m\u001b[0m\u001b[0m\n\u001b[1;32m    313\u001b[0m         \u001b[0;32mreturn\u001b[0m \u001b[0mwrapper\u001b[0m\u001b[0;34m\u001b[0m\u001b[0;34m\u001b[0m\u001b[0m\n",
            "\u001b[0;32m/usr/local/lib/python3.7/dist-packages/pandas/io/html.py\u001b[0m in \u001b[0;36mread_html\u001b[0;34m(io, match, flavor, header, index_col, skiprows, attrs, parse_dates, thousands, encoding, decimal, converters, na_values, keep_default_na, displayed_only)\u001b[0m\n\u001b[1;32m   1111\u001b[0m         \u001b[0mna_values\u001b[0m\u001b[0;34m=\u001b[0m\u001b[0mna_values\u001b[0m\u001b[0;34m,\u001b[0m\u001b[0;34m\u001b[0m\u001b[0;34m\u001b[0m\u001b[0m\n\u001b[1;32m   1112\u001b[0m         \u001b[0mkeep_default_na\u001b[0m\u001b[0;34m=\u001b[0m\u001b[0mkeep_default_na\u001b[0m\u001b[0;34m,\u001b[0m\u001b[0;34m\u001b[0m\u001b[0;34m\u001b[0m\u001b[0m\n\u001b[0;32m-> 1113\u001b[0;31m         \u001b[0mdisplayed_only\u001b[0m\u001b[0;34m=\u001b[0m\u001b[0mdisplayed_only\u001b[0m\u001b[0;34m,\u001b[0m\u001b[0;34m\u001b[0m\u001b[0;34m\u001b[0m\u001b[0m\n\u001b[0m\u001b[1;32m   1114\u001b[0m     )\n",
            "\u001b[0;32m/usr/local/lib/python3.7/dist-packages/pandas/io/html.py\u001b[0m in \u001b[0;36m_parse\u001b[0;34m(flavor, io, match, attrs, encoding, displayed_only, **kwargs)\u001b[0m\n\u001b[1;32m    924\u001b[0m     \u001b[0;32melse\u001b[0m\u001b[0;34m:\u001b[0m\u001b[0;34m\u001b[0m\u001b[0;34m\u001b[0m\u001b[0m\n\u001b[1;32m    925\u001b[0m         \u001b[0;32massert\u001b[0m \u001b[0mretained\u001b[0m \u001b[0;32mis\u001b[0m \u001b[0;32mnot\u001b[0m \u001b[0;32mNone\u001b[0m  \u001b[0;31m# for mypy\u001b[0m\u001b[0;34m\u001b[0m\u001b[0;34m\u001b[0m\u001b[0m\n\u001b[0;32m--> 926\u001b[0;31m         \u001b[0;32mraise\u001b[0m \u001b[0mretained\u001b[0m\u001b[0;34m\u001b[0m\u001b[0;34m\u001b[0m\u001b[0m\n\u001b[0m\u001b[1;32m    927\u001b[0m \u001b[0;34m\u001b[0m\u001b[0m\n\u001b[1;32m    928\u001b[0m     \u001b[0mret\u001b[0m \u001b[0;34m=\u001b[0m \u001b[0;34m[\u001b[0m\u001b[0;34m]\u001b[0m\u001b[0;34m\u001b[0m\u001b[0;34m\u001b[0m\u001b[0m\n",
            "\u001b[0;32m/usr/local/lib/python3.7/dist-packages/pandas/io/html.py\u001b[0m in \u001b[0;36m_parse\u001b[0;34m(flavor, io, match, attrs, encoding, displayed_only, **kwargs)\u001b[0m\n\u001b[1;32m    904\u001b[0m \u001b[0;34m\u001b[0m\u001b[0m\n\u001b[1;32m    905\u001b[0m         \u001b[0;32mtry\u001b[0m\u001b[0;34m:\u001b[0m\u001b[0;34m\u001b[0m\u001b[0;34m\u001b[0m\u001b[0m\n\u001b[0;32m--> 906\u001b[0;31m             \u001b[0mtables\u001b[0m \u001b[0;34m=\u001b[0m \u001b[0mp\u001b[0m\u001b[0;34m.\u001b[0m\u001b[0mparse_tables\u001b[0m\u001b[0;34m(\u001b[0m\u001b[0;34m)\u001b[0m\u001b[0;34m\u001b[0m\u001b[0;34m\u001b[0m\u001b[0m\n\u001b[0m\u001b[1;32m    907\u001b[0m         \u001b[0;32mexcept\u001b[0m \u001b[0mValueError\u001b[0m \u001b[0;32mas\u001b[0m \u001b[0mcaught\u001b[0m\u001b[0;34m:\u001b[0m\u001b[0;34m\u001b[0m\u001b[0;34m\u001b[0m\u001b[0m\n\u001b[1;32m    908\u001b[0m             \u001b[0;31m# if `io` is an io-like object, check if it's seekable\u001b[0m\u001b[0;34m\u001b[0m\u001b[0;34m\u001b[0m\u001b[0;34m\u001b[0m\u001b[0m\n",
            "\u001b[0;32m/usr/local/lib/python3.7/dist-packages/pandas/io/html.py\u001b[0m in \u001b[0;36mparse_tables\u001b[0;34m(self)\u001b[0m\n\u001b[1;32m    220\u001b[0m         \u001b[0mlist\u001b[0m \u001b[0mof\u001b[0m \u001b[0mparsed\u001b[0m \u001b[0;34m(\u001b[0m\u001b[0mheader\u001b[0m\u001b[0;34m,\u001b[0m \u001b[0mbody\u001b[0m\u001b[0;34m,\u001b[0m \u001b[0mfooter\u001b[0m\u001b[0;34m)\u001b[0m \u001b[0mtuples\u001b[0m \u001b[0;32mfrom\u001b[0m \u001b[0mtables\u001b[0m\u001b[0;34m.\u001b[0m\u001b[0;34m\u001b[0m\u001b[0;34m\u001b[0m\u001b[0m\n\u001b[1;32m    221\u001b[0m         \"\"\"\n\u001b[0;32m--> 222\u001b[0;31m         \u001b[0mtables\u001b[0m \u001b[0;34m=\u001b[0m \u001b[0mself\u001b[0m\u001b[0;34m.\u001b[0m\u001b[0m_parse_tables\u001b[0m\u001b[0;34m(\u001b[0m\u001b[0mself\u001b[0m\u001b[0;34m.\u001b[0m\u001b[0m_build_doc\u001b[0m\u001b[0;34m(\u001b[0m\u001b[0;34m)\u001b[0m\u001b[0;34m,\u001b[0m \u001b[0mself\u001b[0m\u001b[0;34m.\u001b[0m\u001b[0mmatch\u001b[0m\u001b[0;34m,\u001b[0m \u001b[0mself\u001b[0m\u001b[0;34m.\u001b[0m\u001b[0mattrs\u001b[0m\u001b[0;34m)\u001b[0m\u001b[0;34m\u001b[0m\u001b[0;34m\u001b[0m\u001b[0m\n\u001b[0m\u001b[1;32m    223\u001b[0m         \u001b[0;32mreturn\u001b[0m \u001b[0;34m(\u001b[0m\u001b[0mself\u001b[0m\u001b[0;34m.\u001b[0m\u001b[0m_parse_thead_tbody_tfoot\u001b[0m\u001b[0;34m(\u001b[0m\u001b[0mtable\u001b[0m\u001b[0;34m)\u001b[0m \u001b[0;32mfor\u001b[0m \u001b[0mtable\u001b[0m \u001b[0;32min\u001b[0m \u001b[0mtables\u001b[0m\u001b[0;34m)\u001b[0m\u001b[0;34m\u001b[0m\u001b[0;34m\u001b[0m\u001b[0m\n\u001b[1;32m    224\u001b[0m \u001b[0;34m\u001b[0m\u001b[0m\n",
            "\u001b[0;32m/usr/local/lib/python3.7/dist-packages/pandas/io/html.py\u001b[0m in \u001b[0;36m_parse_tables\u001b[0;34m(self, doc, match, attrs)\u001b[0m\n\u001b[1;32m    550\u001b[0m \u001b[0;34m\u001b[0m\u001b[0m\n\u001b[1;32m    551\u001b[0m         \u001b[0;32mif\u001b[0m \u001b[0;32mnot\u001b[0m \u001b[0mtables\u001b[0m\u001b[0;34m:\u001b[0m\u001b[0;34m\u001b[0m\u001b[0;34m\u001b[0m\u001b[0m\n\u001b[0;32m--> 552\u001b[0;31m             \u001b[0;32mraise\u001b[0m \u001b[0mValueError\u001b[0m\u001b[0;34m(\u001b[0m\u001b[0;34m\"No tables found\"\u001b[0m\u001b[0;34m)\u001b[0m\u001b[0;34m\u001b[0m\u001b[0;34m\u001b[0m\u001b[0m\n\u001b[0m\u001b[1;32m    553\u001b[0m \u001b[0;34m\u001b[0m\u001b[0m\n\u001b[1;32m    554\u001b[0m         \u001b[0mresult\u001b[0m \u001b[0;34m=\u001b[0m \u001b[0;34m[\u001b[0m\u001b[0;34m]\u001b[0m\u001b[0;34m\u001b[0m\u001b[0;34m\u001b[0m\u001b[0m\n",
            "\u001b[0;31mValueError\u001b[0m: No tables found"
          ]
        }
      ]
    },
    {
      "cell_type": "code",
      "source": [
        ""
      ],
      "metadata": {
        "id": "0_1pSxEktcMG"
      },
      "execution_count": null,
      "outputs": []
    },
    {
      "cell_type": "code",
      "source": [
        ""
      ],
      "metadata": {
        "id": "JS6FfkqbtcJ2"
      },
      "execution_count": null,
      "outputs": []
    },
    {
      "cell_type": "code",
      "source": [
        ""
      ],
      "metadata": {
        "id": "KITk6N_ttcH8"
      },
      "execution_count": null,
      "outputs": []
    }
  ]
}