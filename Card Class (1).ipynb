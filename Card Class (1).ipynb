{
 "cells": [
  {
   "cell_type": "markdown",
   "id": "d9032335",
   "metadata": {},
   "source": [
    "## Card Class Problem\n",
    "### Python 3"
   ]
  },
  {
   "cell_type": "markdown",
   "id": "e2b85bc4",
   "metadata": {},
   "source": [
    "#### Step 1: Create function"
   ]
  },
  {
   "cell_type": "code",
   "execution_count": 3,
   "id": "7157db62",
   "metadata": {},
   "outputs": [],
   "source": [
    "class Card:\n",
    "    #Card class function\n",
    "    def __init__(self, rank, suit):\n",
    "        self.ranks = [None, \"Ace\", 2, 3, 4, 5, 6, 7, 8, 9, 10, \"Jack\", \"Queen\", \"King\"]\n",
    "        self.rank = self.ranks[rank]\n",
    "        self.suits = {\"d\": \"Diamonds\", \"c\": \"Clubs\", \"h\": \"Hearts\", \"s\": \"Spades\"}\n",
    "        self.suit = self.suits[suit]\n",
    "        self.value = -1\n",
    "\n",
    "    def getRank(self):\n",
    "        return self.rank\n",
    "\n",
    "    def getSuit(self):\n",
    "        return self.suit\n",
    "\n"
   ]
  }
 ],
 "metadata": {
  "kernelspec": {
   "display_name": "Python 3",
   "language": "python",
   "name": "python3"
  },
  "language_info": {
   "codemirror_mode": {
    "name": "ipython",
    "version": 3
   },
   "file_extension": ".py",
   "mimetype": "text/x-python",
   "name": "python",
   "nbconvert_exporter": "python",
   "pygments_lexer": "ipython3",
   "version": "3.8.8"
  }
 },
 "nbformat": 4,
 "nbformat_minor": 5
}
